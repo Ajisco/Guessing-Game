{
 "cells": [
  {
   "cell_type": "code",
   "execution_count": null,
   "id": "938e1b1a",
   "metadata": {},
   "outputs": [],
   "source": [
    "# Guessing Game\n",
    "import numpy as np\n",
    "\n",
    "def guessing_game():\n",
    "   \"\"\"This function asks for an input, if the input is integer, the function tells if it's too high, too low or just right and returns the input if it's a text..\"\"\"\n",
    "   while True:\n",
    "        for x in [np.random.randint(0,101)]:\n",
    "            answer = input('Guess the Number: ' )\n",
    "            if answer.isdigit():\n",
    "                if int(answer) == x:\n",
    "                    print ('Just Right')\n",
    "                    break\n",
    "                elif int(answer) > x:\n",
    "                    print ('Too high')\n",
    "                else:\n",
    "                    print ('Too Low')\n",
    "            else:\n",
    "                print(f'Your text is: {answer}!')\n",
    "        \n",
    "guessing_game()"
   ]
  },
  {
   "cell_type": "code",
   "execution_count": null,
   "id": "6ee4bdc5",
   "metadata": {},
   "outputs": [],
   "source": []
  }
 ],
 "metadata": {
  "kernelspec": {
   "display_name": "Python 3 (ipykernel)",
   "language": "python",
   "name": "python3"
  },
  "language_info": {
   "codemirror_mode": {
    "name": "ipython",
    "version": 3
   },
   "file_extension": ".py",
   "mimetype": "text/x-python",
   "name": "python",
   "nbconvert_exporter": "python",
   "pygments_lexer": "ipython3",
   "version": "3.8.3"
  }
 },
 "nbformat": 4,
 "nbformat_minor": 5
}
